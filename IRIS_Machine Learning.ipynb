{
 "cells": [
  {
   "cell_type": "markdown",
   "id": "c8fa1101",
   "metadata": {},
   "source": [
    "## Import Libraries"
   ]
  },
  {
   "cell_type": "code",
   "execution_count": 147,
   "id": "1626166b",
   "metadata": {},
   "outputs": [],
   "source": [
    "import numpy as np\n",
    "import pandas as pd\n",
    "import matplotlib.pyplot as plt\n",
    "import seaborn as sns"
   ]
  },
  {
   "cell_type": "markdown",
   "id": "3d4abf88",
   "metadata": {},
   "source": [
    "## Load Data "
   ]
  },
  {
   "cell_type": "code",
   "execution_count": 148,
   "id": "f0f674a9",
   "metadata": {},
   "outputs": [],
   "source": [
    "import os\n",
    "os.chdir(\"C:\\\\Users\\\\hp\\\\Downloads\\\\archive (1)\")"
   ]
  },
  {
   "cell_type": "code",
   "execution_count": 149,
   "id": "96484f36",
   "metadata": {},
   "outputs": [],
   "source": [
    "df = pd.read_csv('IRIS.csv')"
   ]
  },
  {
   "cell_type": "code",
   "execution_count": 150,
   "id": "46acc260",
   "metadata": {},
   "outputs": [
    {
     "data": {
      "text/html": [
       "<div>\n",
       "<style scoped>\n",
       "    .dataframe tbody tr th:only-of-type {\n",
       "        vertical-align: middle;\n",
       "    }\n",
       "\n",
       "    .dataframe tbody tr th {\n",
       "        vertical-align: top;\n",
       "    }\n",
       "\n",
       "    .dataframe thead th {\n",
       "        text-align: right;\n",
       "    }\n",
       "</style>\n",
       "<table border=\"1\" class=\"dataframe\">\n",
       "  <thead>\n",
       "    <tr style=\"text-align: right;\">\n",
       "      <th></th>\n",
       "      <th>sepal_length</th>\n",
       "      <th>sepal_width</th>\n",
       "      <th>petal_length</th>\n",
       "      <th>petal_width</th>\n",
       "      <th>species</th>\n",
       "    </tr>\n",
       "  </thead>\n",
       "  <tbody>\n",
       "    <tr>\n",
       "      <th>0</th>\n",
       "      <td>5.1</td>\n",
       "      <td>3.5</td>\n",
       "      <td>1.4</td>\n",
       "      <td>0.2</td>\n",
       "      <td>Iris-setosa</td>\n",
       "    </tr>\n",
       "    <tr>\n",
       "      <th>1</th>\n",
       "      <td>4.9</td>\n",
       "      <td>3.0</td>\n",
       "      <td>1.4</td>\n",
       "      <td>0.2</td>\n",
       "      <td>Iris-setosa</td>\n",
       "    </tr>\n",
       "    <tr>\n",
       "      <th>2</th>\n",
       "      <td>4.7</td>\n",
       "      <td>3.2</td>\n",
       "      <td>1.3</td>\n",
       "      <td>0.2</td>\n",
       "      <td>Iris-setosa</td>\n",
       "    </tr>\n",
       "    <tr>\n",
       "      <th>3</th>\n",
       "      <td>4.6</td>\n",
       "      <td>3.1</td>\n",
       "      <td>1.5</td>\n",
       "      <td>0.2</td>\n",
       "      <td>Iris-setosa</td>\n",
       "    </tr>\n",
       "    <tr>\n",
       "      <th>4</th>\n",
       "      <td>5.0</td>\n",
       "      <td>3.6</td>\n",
       "      <td>1.4</td>\n",
       "      <td>0.2</td>\n",
       "      <td>Iris-setosa</td>\n",
       "    </tr>\n",
       "    <tr>\n",
       "      <th>...</th>\n",
       "      <td>...</td>\n",
       "      <td>...</td>\n",
       "      <td>...</td>\n",
       "      <td>...</td>\n",
       "      <td>...</td>\n",
       "    </tr>\n",
       "    <tr>\n",
       "      <th>145</th>\n",
       "      <td>6.7</td>\n",
       "      <td>3.0</td>\n",
       "      <td>5.2</td>\n",
       "      <td>2.3</td>\n",
       "      <td>Iris-virginica</td>\n",
       "    </tr>\n",
       "    <tr>\n",
       "      <th>146</th>\n",
       "      <td>6.3</td>\n",
       "      <td>2.5</td>\n",
       "      <td>5.0</td>\n",
       "      <td>1.9</td>\n",
       "      <td>Iris-virginica</td>\n",
       "    </tr>\n",
       "    <tr>\n",
       "      <th>147</th>\n",
       "      <td>6.5</td>\n",
       "      <td>3.0</td>\n",
       "      <td>5.2</td>\n",
       "      <td>2.0</td>\n",
       "      <td>Iris-virginica</td>\n",
       "    </tr>\n",
       "    <tr>\n",
       "      <th>148</th>\n",
       "      <td>6.2</td>\n",
       "      <td>3.4</td>\n",
       "      <td>5.4</td>\n",
       "      <td>2.3</td>\n",
       "      <td>Iris-virginica</td>\n",
       "    </tr>\n",
       "    <tr>\n",
       "      <th>149</th>\n",
       "      <td>5.9</td>\n",
       "      <td>3.0</td>\n",
       "      <td>5.1</td>\n",
       "      <td>1.8</td>\n",
       "      <td>Iris-virginica</td>\n",
       "    </tr>\n",
       "  </tbody>\n",
       "</table>\n",
       "<p>150 rows × 5 columns</p>\n",
       "</div>"
      ],
      "text/plain": [
       "     sepal_length  sepal_width  petal_length  petal_width         species\n",
       "0             5.1          3.5           1.4          0.2     Iris-setosa\n",
       "1             4.9          3.0           1.4          0.2     Iris-setosa\n",
       "2             4.7          3.2           1.3          0.2     Iris-setosa\n",
       "3             4.6          3.1           1.5          0.2     Iris-setosa\n",
       "4             5.0          3.6           1.4          0.2     Iris-setosa\n",
       "..            ...          ...           ...          ...             ...\n",
       "145           6.7          3.0           5.2          2.3  Iris-virginica\n",
       "146           6.3          2.5           5.0          1.9  Iris-virginica\n",
       "147           6.5          3.0           5.2          2.0  Iris-virginica\n",
       "148           6.2          3.4           5.4          2.3  Iris-virginica\n",
       "149           5.9          3.0           5.1          1.8  Iris-virginica\n",
       "\n",
       "[150 rows x 5 columns]"
      ]
     },
     "execution_count": 150,
     "metadata": {},
     "output_type": "execute_result"
    }
   ],
   "source": [
    "df"
   ]
  },
  {
   "cell_type": "markdown",
   "id": "539d4478",
   "metadata": {},
   "source": [
    "## Explore the data"
   ]
  },
  {
   "cell_type": "code",
   "execution_count": 151,
   "id": "2c3e8dba",
   "metadata": {},
   "outputs": [
    {
     "data": {
      "text/html": [
       "<div>\n",
       "<style scoped>\n",
       "    .dataframe tbody tr th:only-of-type {\n",
       "        vertical-align: middle;\n",
       "    }\n",
       "\n",
       "    .dataframe tbody tr th {\n",
       "        vertical-align: top;\n",
       "    }\n",
       "\n",
       "    .dataframe thead th {\n",
       "        text-align: right;\n",
       "    }\n",
       "</style>\n",
       "<table border=\"1\" class=\"dataframe\">\n",
       "  <thead>\n",
       "    <tr style=\"text-align: right;\">\n",
       "      <th></th>\n",
       "      <th>sepal_length</th>\n",
       "      <th>sepal_width</th>\n",
       "      <th>petal_length</th>\n",
       "      <th>petal_width</th>\n",
       "    </tr>\n",
       "  </thead>\n",
       "  <tbody>\n",
       "    <tr>\n",
       "      <th>sepal_length</th>\n",
       "      <td>1.000000</td>\n",
       "      <td>-0.109369</td>\n",
       "      <td>0.871754</td>\n",
       "      <td>0.817954</td>\n",
       "    </tr>\n",
       "    <tr>\n",
       "      <th>sepal_width</th>\n",
       "      <td>-0.109369</td>\n",
       "      <td>1.000000</td>\n",
       "      <td>-0.420516</td>\n",
       "      <td>-0.356544</td>\n",
       "    </tr>\n",
       "    <tr>\n",
       "      <th>petal_length</th>\n",
       "      <td>0.871754</td>\n",
       "      <td>-0.420516</td>\n",
       "      <td>1.000000</td>\n",
       "      <td>0.962757</td>\n",
       "    </tr>\n",
       "    <tr>\n",
       "      <th>petal_width</th>\n",
       "      <td>0.817954</td>\n",
       "      <td>-0.356544</td>\n",
       "      <td>0.962757</td>\n",
       "      <td>1.000000</td>\n",
       "    </tr>\n",
       "  </tbody>\n",
       "</table>\n",
       "</div>"
      ],
      "text/plain": [
       "              sepal_length  sepal_width  petal_length  petal_width\n",
       "sepal_length      1.000000    -0.109369      0.871754     0.817954\n",
       "sepal_width      -0.109369     1.000000     -0.420516    -0.356544\n",
       "petal_length      0.871754    -0.420516      1.000000     0.962757\n",
       "petal_width       0.817954    -0.356544      0.962757     1.000000"
      ]
     },
     "execution_count": 151,
     "metadata": {},
     "output_type": "execute_result"
    }
   ],
   "source": [
    "df.corr()"
   ]
  },
  {
   "cell_type": "code",
   "execution_count": 152,
   "id": "349f5368",
   "metadata": {},
   "outputs": [
    {
     "data": {
      "text/plain": [
       "<seaborn.axisgrid.PairGrid at 0x1ee48386be0>"
      ]
     },
     "execution_count": 152,
     "metadata": {},
     "output_type": "execute_result"
    },
    {
     "data": {
      "image/png": "[encoded data removed]",
      "text/plain": [
       "<Figure size 720x720 with 20 Axes>"
      ]
     },
     "metadata": {
      "needs_background": "light"
     },
     "output_type": "display_data"
    }
   ],
   "source": [
    "sns.pairplot(data=df)"
   ]
  },
  {
   "cell_type": "code",
   "execution_count": 153,
   "id": "31b364b0",
   "metadata": {},
   "outputs": [
    {
     "data": {
      "text/plain": [
       "Iris-setosa        50\n",
       "Iris-versicolor    50\n",
       "Iris-virginica     50\n",
       "Name: species, dtype: int64"
      ]
     },
     "execution_count": 153,
     "metadata": {},
     "output_type": "execute_result"
    }
   ],
   "source": [
    "df['species'].value_counts()"
   ]
  },
  {
   "cell_type": "markdown",
   "id": "554d3d18",
   "metadata": {},
   "source": [
    "## Train/Test Split"
   ]
  },
  {
   "cell_type": "code",
   "execution_count": 154,
   "id": "22e48867",
   "metadata": {},
   "outputs": [],
   "source": [
    "from sklearn.model_selection import train_test_split"
   ]
  },
  {
   "cell_type": "markdown",
   "id": "dfd038d8",
   "metadata": {},
   "source": [
    "Divide the data into features (X) which are given to model to predict and Labels (Y) which the model should predict. And also these are converted into array values"
   ]
  },
  {
   "cell_type": "code",
   "execution_count": 155,
   "id": "7cf9d2e9",
   "metadata": {},
   "outputs": [],
   "source": [
    "X = df.drop('species',axis=1).values\n",
    "y = df['species'].values"
   ]
  },
  {
   "cell_type": "code",
   "execution_count": 156,
   "id": "de4992eb",
   "metadata": {},
   "outputs": [],
   "source": [
    "#y"
   ]
  },
  {
   "cell_type": "markdown",
   "id": "f0002979",
   "metadata": {},
   "source": [
    "Here if we observe the y is string array containing the which flower the four features belong to. As giving strings to our model not makes any sense. We convert them labels which are represented like 0,1,2......"
   ]
  },
  {
   "cell_type": "code",
   "execution_count": 157,
   "id": "a4c91dcd",
   "metadata": {},
   "outputs": [],
   "source": [
    "from sklearn.preprocessing import LabelEncoder\n",
    "\n",
    "encoder =  LabelEncoder()\n",
    "\n",
    "y = encoder.fit_transform(y)"
   ]
  },
  {
   "cell_type": "code",
   "execution_count": 158,
   "id": "3329d984",
   "metadata": {},
   "outputs": [
    {
     "data": {
      "text/plain": [
       "array([0, 0, 0, 0, 0, 0, 0, 0, 0, 0, 0, 0, 0, 0, 0, 0, 0, 0, 0, 0, 0, 0,\n",
       "       0, 0, 0, 0, 0, 0, 0, 0, 0, 0, 0, 0, 0, 0, 0, 0, 0, 0, 0, 0, 0, 0,\n",
       "       0, 0, 0, 0, 0, 0, 1, 1, 1, 1, 1, 1, 1, 1, 1, 1, 1, 1, 1, 1, 1, 1,\n",
       "       1, 1, 1, 1, 1, 1, 1, 1, 1, 1, 1, 1, 1, 1, 1, 1, 1, 1, 1, 1, 1, 1,\n",
       "       1, 1, 1, 1, 1, 1, 1, 1, 1, 1, 1, 1, 2, 2, 2, 2, 2, 2, 2, 2, 2, 2,\n",
       "       2, 2, 2, 2, 2, 2, 2, 2, 2, 2, 2, 2, 2, 2, 2, 2, 2, 2, 2, 2, 2, 2,\n",
       "       2, 2, 2, 2, 2, 2, 2, 2, 2, 2, 2, 2, 2, 2, 2, 2, 2, 2])"
      ]
     },
     "execution_count": 158,
     "metadata": {},
     "output_type": "execute_result"
    }
   ],
   "source": [
    "y"
   ]
  },
  {
   "cell_type": "markdown",
   "id": "d5cc84b7",
   "metadata": {},
   "source": [
    "In the scienario the flower names doest not have any ranking. But when we Label encoded it, the flower names are ranked based on the alphabets. Due to this our model may catch the relationship Iris-setosa < Iris-versicolor < Iris-virginica . This problem can be solved using the One-Hot Encding"
   ]
  },
  {
   "cell_type": "markdown",
   "id": "67b10bd0",
   "metadata": {},
   "source": [
    "## One-Hot Encoding"
   ]
  },
  {
   "cell_type": "markdown",
   "id": "5dee970f",
   "metadata": {},
   "source": [
    "One-Hot Encoding creates additional features based on the number of unique values in the categorical feature. Every unique value in the category will be added as a feature."
   ]
  },
  {
   "cell_type": "code",
   "execution_count": 159,
   "id": "c4dd9744",
   "metadata": {},
   "outputs": [],
   "source": [
    "y = pd.get_dummies(y).values"
   ]
  },
  {
   "cell_type": "code",
   "execution_count": 160,
   "id": "10b61bba",
   "metadata": {},
   "outputs": [
    {
     "data": {
      "text/plain": [
       "array([[1, 0, 0],\n",
       "       [1, 0, 0],\n",
       "       [1, 0, 0],\n",
       "       [1, 0, 0],\n",
       "       [1, 0, 0]], dtype=uint8)"
      ]
     },
     "execution_count": 160,
     "metadata": {},
     "output_type": "execute_result"
    }
   ],
   "source": [
    "y[0:5]"
   ]
  },
  {
   "cell_type": "markdown",
   "id": "011dbb24",
   "metadata": {},
   "source": [
    "As you can see here, 3 new features are added as the country contains 3 unique values – Iris-setosa, Iris-versicolor and Iris-virginica. In this technique, we solved the problem of ranking as each category is represented by a binary vector."
   ]
  },
  {
   "cell_type": "code",
   "execution_count": 161,
   "id": "91d4dede",
   "metadata": {},
   "outputs": [],
   "source": [
    "X_train, X_test, y_train, y_test = train_test_split(X,y,test_size=0.25,random_state=101)"
   ]
  },
  {
   "cell_type": "code",
   "execution_count": 162,
   "id": "521032a1",
   "metadata": {},
   "outputs": [
    {
     "data": {
      "text/plain": [
       "(112, 3)"
      ]
     },
     "execution_count": 162,
     "metadata": {},
     "output_type": "execute_result"
    }
   ],
   "source": [
    "y_train.shape"
   ]
  },
  {
   "cell_type": "markdown",
   "id": "dd4e57bf",
   "metadata": {},
   "source": [
    "# Creating a Model"
   ]
  },
  {
   "cell_type": "markdown",
   "id": "8430515e",
   "metadata": {},
   "source": [
    " ### For a binary classification problem\n",
    "    model.compile(optimizer='rmsprop',\n",
    "                  loss='binary_crossentropy',\n",
    "                  metrics=['accuracy']) \n",
    "                  \n",
    "    For the Dense layer we are using rectified linear unit (relu) as activation function and for the final layer as the prediction is between three different classes, we are using softmax"
   ]
  },
  {
   "cell_type": "code",
   "execution_count": 163,
   "id": "cda33f90",
   "metadata": {},
   "outputs": [],
   "source": [
    "import tensorflow as tf\n",
    "from tensorflow.keras.models import Sequential\n",
    "from tensorflow.keras.layers import Dense"
   ]
  },
  {
   "cell_type": "code",
   "execution_count": 164,
   "id": "15c79f92",
   "metadata": {},
   "outputs": [],
   "source": [
    "model = Sequential()\n",
    "\n",
    "model.add(Dense(50, input_shape=(4,),activation='relu'))\n",
    "model.add(Dense(30, activation='relu'))\n",
    "\n",
    "model.add(Dense(3, activation='softmax'))"
   ]
  },
  {
   "cell_type": "code",
   "execution_count": 165,
   "id": "ee5c117c",
   "metadata": {},
   "outputs": [],
   "source": [
    "model.compile(optimizer='rmsprop',\n",
    "              loss='categorical_crossentropy',\n",
    "              metrics=['accuracy'])"
   ]
  },
  {
   "cell_type": "markdown",
   "id": "ced3ceda",
   "metadata": {},
   "source": [
    "## Training the Model"
   ]
  },
  {
   "cell_type": "code",
   "execution_count": 166,
   "id": "f0bdcdea",
   "metadata": {},
   "outputs": [
    {
     "name": "stdout",
     "output_type": "stream",
     "text": [
      "Epoch 1/120\n",
      "3/3 [==============================] - 1s 5ms/step - loss: 1.3237 - accuracy: 0.5089\n",
      "Epoch 2/120\n",
      "3/3 [==============================] - 0s 4ms/step - loss: 1.0377 - accuracy: 0.5179\n",
      "Epoch 3/120\n",
      "3/3 [==============================] - 0s 4ms/step - loss: 0.9588 - accuracy: 0.7054\n",
      "Epoch 4/120\n",
      "3/3 [==============================] - 0s 3ms/step - loss: 0.9188 - accuracy: 0.6964\n",
      "Epoch 5/120\n",
      "3/3 [==============================] - 0s 3ms/step - loss: 0.8887 - accuracy: 0.7054\n",
      "Epoch 6/120\n",
      "3/3 [==============================] - 0s 3ms/step - loss: 0.8783 - accuracy: 0.6696\n",
      "Epoch 7/120\n",
      "3/3 [==============================] - 0s 4ms/step - loss: 0.8347 - accuracy: 0.7679\n",
      "Epoch 8/120\n",
      "3/3 [==============================] - 0s 3ms/step - loss: 0.8110 - accuracy: 0.7054\n",
      "Epoch 9/120\n",
      "3/3 [==============================] - 0s 2ms/step - loss: 0.7809 - accuracy: 0.7143\n",
      "Epoch 10/120\n",
      "3/3 [==============================] - 0s 3ms/step - loss: 0.7689 - accuracy: 0.6875\n",
      "Epoch 11/120\n",
      "3/3 [==============================] - 0s 3ms/step - loss: 0.7572 - accuracy: 0.7054\n",
      "Epoch 12/120\n",
      "3/3 [==============================] - 0s 3ms/step - loss: 0.7216 - accuracy: 0.7857\n",
      "Epoch 13/120\n",
      "3/3 [==============================] - 0s 3ms/step - loss: 0.6949 - accuracy: 0.7054\n",
      "Epoch 14/120\n",
      "3/3 [==============================] - 0s 3ms/step - loss: 0.6814 - accuracy: 0.7411\n",
      "Epoch 15/120\n",
      "3/3 [==============================] - 0s 3ms/step - loss: 0.6634 - accuracy: 0.7857\n",
      "Epoch 16/120\n",
      "3/3 [==============================] - 0s 3ms/step - loss: 0.6595 - accuracy: 0.7054\n",
      "Epoch 17/120\n",
      "3/3 [==============================] - 0s 4ms/step - loss: 0.6291 - accuracy: 0.7946\n",
      "Epoch 18/120\n",
      "3/3 [==============================] - 0s 2ms/step - loss: 0.6216 - accuracy: 0.8304\n",
      "Epoch 19/120\n",
      "3/3 [==============================] - 0s 3ms/step - loss: 0.5894 - accuracy: 0.7768\n",
      "Epoch 20/120\n",
      "3/3 [==============================] - 0s 3ms/step - loss: 0.5757 - accuracy: 0.7321\n",
      "Epoch 21/120\n",
      "3/3 [==============================] - 0s 3ms/step - loss: 0.5795 - accuracy: 0.8571\n",
      "Epoch 22/120\n",
      "3/3 [==============================] - 0s 3ms/step - loss: 0.5459 - accuracy: 0.8393\n",
      "Epoch 23/120\n",
      "3/3 [==============================] - 0s 2ms/step - loss: 0.5349 - accuracy: 0.7232\n",
      "Epoch 24/120\n",
      "3/3 [==============================] - 0s 3ms/step - loss: 0.5310 - accuracy: 0.8661\n",
      "Epoch 25/120\n",
      "3/3 [==============================] - 0s 3ms/step - loss: 0.5071 - accuracy: 0.8125\n",
      "Epoch 26/120\n",
      "3/3 [==============================] - 0s 3ms/step - loss: 0.4912 - accuracy: 0.8482\n",
      "Epoch 27/120\n",
      "3/3 [==============================] - 0s 2ms/step - loss: 0.4772 - accuracy: 0.7946\n",
      "Epoch 28/120\n",
      "3/3 [==============================] - 0s 3ms/step - loss: 0.4668 - accuracy: 0.9107\n",
      "Epoch 29/120\n",
      "3/3 [==============================] - 0s 3ms/step - loss: 0.4576 - accuracy: 0.8393\n",
      "Epoch 30/120\n",
      "3/3 [==============================] - 0s 2ms/step - loss: 0.4567 - accuracy: 0.8929\n",
      "Epoch 31/120\n",
      "3/3 [==============================] - 0s 3ms/step - loss: 0.4477 - accuracy: 0.8929\n",
      "Epoch 32/120\n",
      "3/3 [==============================] - 0s 3ms/step - loss: 0.4239 - accuracy: 0.8125\n",
      "Epoch 33/120\n",
      "3/3 [==============================] - 0s 4ms/step - loss: 0.4116 - accuracy: 0.9018\n",
      "Epoch 34/120\n",
      "3/3 [==============================] - 0s 4ms/step - loss: 0.4153 - accuracy: 0.8214\n",
      "Epoch 35/120\n",
      "3/3 [==============================] - 0s 3ms/step - loss: 0.4112 - accuracy: 0.7857\n",
      "Epoch 36/120\n",
      "3/3 [==============================] - 0s 2ms/step - loss: 0.3928 - accuracy: 0.8125\n",
      "Epoch 37/120\n",
      "3/3 [==============================] - 0s 4ms/step - loss: 0.3778 - accuracy: 0.9286\n",
      "Epoch 38/120\n",
      "3/3 [==============================] - 0s 3ms/step - loss: 0.3673 - accuracy: 0.9554\n",
      "Epoch 39/120\n",
      "3/3 [==============================] - 0s 3ms/step - loss: 0.3637 - accuracy: 0.9018\n",
      "Epoch 40/120\n",
      "3/3 [==============================] - 0s 2ms/step - loss: 0.3577 - accuracy: 0.9464\n",
      "Epoch 41/120\n",
      "3/3 [==============================] - 0s 2ms/step - loss: 0.3411 - accuracy: 0.9464\n",
      "Epoch 42/120\n",
      "3/3 [==============================] - 0s 4ms/step - loss: 0.3345 - accuracy: 0.9375\n",
      "Epoch 43/120\n",
      "3/3 [==============================] - 0s 4ms/step - loss: 0.3498 - accuracy: 0.9286\n",
      "Epoch 44/120\n",
      "3/3 [==============================] - 0s 4ms/step - loss: 0.3365 - accuracy: 0.9196\n",
      "Epoch 45/120\n",
      "3/3 [==============================] - 0s 3ms/step - loss: 0.3140 - accuracy: 0.9554\n",
      "Epoch 46/120\n",
      "3/3 [==============================] - 0s 2ms/step - loss: 0.3089 - accuracy: 0.9375\n",
      "Epoch 47/120\n",
      "3/3 [==============================] - 0s 2ms/step - loss: 0.3029 - accuracy: 0.9196\n",
      "Epoch 48/120\n",
      "3/3 [==============================] - 0s 3ms/step - loss: 0.3039 - accuracy: 0.9286\n",
      "Epoch 49/120\n",
      "3/3 [==============================] - 0s 4ms/step - loss: 0.2877 - accuracy: 0.9732\n",
      "Epoch 50/120\n",
      "3/3 [==============================] - 0s 3ms/step - loss: 0.2805 - accuracy: 0.9464\n",
      "Epoch 51/120\n",
      "3/3 [==============================] - 0s 3ms/step - loss: 0.2722 - accuracy: 0.9732\n",
      "Epoch 52/120\n",
      "3/3 [==============================] - 0s 3ms/step - loss: 0.2992 - accuracy: 0.8839\n",
      "Epoch 53/120\n",
      "3/3 [==============================] - 0s 3ms/step - loss: 0.2614 - accuracy: 0.9554\n",
      "Epoch 54/120\n",
      "3/3 [==============================] - 0s 3ms/step - loss: 0.2533 - accuracy: 0.9464\n",
      "Epoch 55/120\n",
      "3/3 [==============================] - 0s 3ms/step - loss: 0.2937 - accuracy: 0.8929\n",
      "Epoch 56/120\n",
      "3/3 [==============================] - 0s 4ms/step - loss: 0.2563 - accuracy: 0.9375\n",
      "Epoch 57/120\n",
      "3/3 [==============================] - 0s 3ms/step - loss: 0.2444 - accuracy: 0.9643\n",
      "Epoch 58/120\n",
      "3/3 [==============================] - 0s 3ms/step - loss: 0.2502 - accuracy: 0.9554\n",
      "Epoch 59/120\n",
      "3/3 [==============================] - 0s 3ms/step - loss: 0.2394 - accuracy: 0.9732\n",
      "Epoch 60/120\n",
      "3/3 [==============================] - 0s 3ms/step - loss: 0.2343 - accuracy: 0.9732\n",
      "Epoch 61/120\n",
      "3/3 [==============================] - 0s 3ms/step - loss: 0.2291 - accuracy: 0.9643\n",
      "Epoch 62/120\n",
      "3/3 [==============================] - 0s 1ms/step - loss: 0.2277 - accuracy: 0.9464\n",
      "Epoch 63/120\n",
      "3/3 [==============================] - 0s 2ms/step - loss: 0.2184 - accuracy: 0.9554\n",
      "Epoch 64/120\n",
      "3/3 [==============================] - 0s 2ms/step - loss: 0.2135 - accuracy: 0.9732\n",
      "Epoch 65/120\n",
      "3/3 [==============================] - 0s 2ms/step - loss: 0.2122 - accuracy: 0.9643\n",
      "Epoch 66/120\n",
      "3/3 [==============================] - 0s 3ms/step - loss: 0.2187 - accuracy: 0.9286\n",
      "Epoch 67/120\n",
      "3/3 [==============================] - 0s 3ms/step - loss: 0.2005 - accuracy: 0.9732\n",
      "Epoch 68/120\n",
      "3/3 [==============================] - 0s 2ms/step - loss: 0.2310 - accuracy: 0.9375\n",
      "Epoch 69/120\n",
      "3/3 [==============================] - 0s 3ms/step - loss: 0.1950 - accuracy: 0.9643\n",
      "Epoch 70/120\n",
      "3/3 [==============================] - 0s 2ms/step - loss: 0.1939 - accuracy: 0.9732\n",
      "Epoch 71/120\n",
      "3/3 [==============================] - 0s 2ms/step - loss: 0.1942 - accuracy: 0.9732\n",
      "Epoch 72/120\n",
      "3/3 [==============================] - 0s 2ms/step - loss: 0.2029 - accuracy: 0.9643\n",
      "Epoch 73/120\n",
      "3/3 [==============================] - 0s 2ms/step - loss: 0.1977 - accuracy: 0.9554\n",
      "Epoch 74/120\n",
      "3/3 [==============================] - 0s 2ms/step - loss: 0.1811 - accuracy: 0.9643\n",
      "Epoch 75/120\n",
      "3/3 [==============================] - 0s 3ms/step - loss: 0.1777 - accuracy: 0.9643\n",
      "Epoch 76/120\n",
      "3/3 [==============================] - 0s 2ms/step - loss: 0.1780 - accuracy: 0.9732\n",
      "Epoch 77/120\n",
      "3/3 [==============================] - 0s 3ms/step - loss: 0.1927 - accuracy: 0.9286\n",
      "Epoch 78/120\n",
      "3/3 [==============================] - 0s 4ms/step - loss: 0.1737 - accuracy: 0.9732\n",
      "Epoch 79/120\n",
      "3/3 [==============================] - 0s 4ms/step - loss: 0.1728 - accuracy: 0.9464\n",
      "Epoch 80/120\n",
      "3/3 [==============================] - 0s 3ms/step - loss: 0.1704 - accuracy: 0.9732\n",
      "Epoch 81/120\n",
      "3/3 [==============================] - 0s 2ms/step - loss: 0.1835 - accuracy: 0.9643\n",
      "Epoch 82/120\n",
      "3/3 [==============================] - 0s 3ms/step - loss: 0.1655 - accuracy: 0.9732\n",
      "Epoch 83/120\n",
      "3/3 [==============================] - 0s 2ms/step - loss: 0.1685 - accuracy: 0.9643\n",
      "Epoch 84/120\n"
     ]
    },
    {
     "name": "stdout",
     "output_type": "stream",
     "text": [
      "3/3 [==============================] - 0s 2ms/step - loss: 0.1593 - accuracy: 0.9821\n",
      "Epoch 85/120\n",
      "3/3 [==============================] - 0s 3ms/step - loss: 0.1604 - accuracy: 0.9732\n",
      "Epoch 86/120\n",
      "3/3 [==============================] - 0s 3ms/step - loss: 0.1632 - accuracy: 0.9464\n",
      "Epoch 87/120\n",
      "3/3 [==============================] - 0s 4ms/step - loss: 0.1567 - accuracy: 0.9732\n",
      "Epoch 88/120\n",
      "3/3 [==============================] - 0s 4ms/step - loss: 0.1495 - accuracy: 0.9732\n",
      "Epoch 89/120\n",
      "3/3 [==============================] - 0s 4ms/step - loss: 0.1571 - accuracy: 0.9554\n",
      "Epoch 90/120\n",
      "3/3 [==============================] - 0s 4ms/step - loss: 0.1589 - accuracy: 0.9732\n",
      "Epoch 91/120\n",
      "3/3 [==============================] - 0s 4ms/step - loss: 0.1493 - accuracy: 0.9554\n",
      "Epoch 92/120\n",
      "3/3 [==============================] - 0s 4ms/step - loss: 0.1448 - accuracy: 0.9732\n",
      "Epoch 93/120\n",
      "3/3 [==============================] - 0s 3ms/step - loss: 0.1462 - accuracy: 0.9464\n",
      "Epoch 94/120\n",
      "3/3 [==============================] - 0s 4ms/step - loss: 0.1427 - accuracy: 0.9643\n",
      "Epoch 95/120\n",
      "3/3 [==============================] - 0s 4ms/step - loss: 0.1408 - accuracy: 0.9643\n",
      "Epoch 96/120\n",
      "3/3 [==============================] - 0s 3ms/step - loss: 0.1416 - accuracy: 0.9732\n",
      "Epoch 97/120\n",
      "3/3 [==============================] - 0s 3ms/step - loss: 0.1412 - accuracy: 0.9732\n",
      "Epoch 98/120\n",
      "3/3 [==============================] - 0s 3ms/step - loss: 0.1377 - accuracy: 0.9464\n",
      "Epoch 99/120\n",
      "3/3 [==============================] - 0s 3ms/step - loss: 0.1408 - accuracy: 0.9375\n",
      "Epoch 100/120\n",
      "3/3 [==============================] - 0s 4ms/step - loss: 0.1356 - accuracy: 0.9464\n",
      "Epoch 101/120\n",
      "3/3 [==============================] - 0s 4ms/step - loss: 0.1307 - accuracy: 0.9554\n",
      "Epoch 102/120\n",
      "3/3 [==============================] - 0s 3ms/step - loss: 0.1341 - accuracy: 0.9554\n",
      "Epoch 103/120\n",
      "3/3 [==============================] - 0s 4ms/step - loss: 0.1411 - accuracy: 0.9643\n",
      "Epoch 104/120\n",
      "3/3 [==============================] - 0s 3ms/step - loss: 0.1258 - accuracy: 0.9732\n",
      "Epoch 105/120\n",
      "3/3 [==============================] - 0s 2ms/step - loss: 0.1648 - accuracy: 0.9286\n",
      "Epoch 106/120\n",
      "3/3 [==============================] - 0s 2ms/step - loss: 0.1235 - accuracy: 0.9732\n",
      "Epoch 107/120\n",
      "3/3 [==============================] - 0s 4ms/step - loss: 0.1279 - accuracy: 0.9732\n",
      "Epoch 108/120\n",
      "3/3 [==============================] - 0s 3ms/step - loss: 0.1253 - accuracy: 0.9732\n",
      "Epoch 109/120\n",
      "3/3 [==============================] - 0s 2ms/step - loss: 0.1224 - accuracy: 0.9732\n",
      "Epoch 110/120\n",
      "3/3 [==============================] - 0s 3ms/step - loss: 0.1367 - accuracy: 0.9732\n",
      "Epoch 111/120\n",
      "3/3 [==============================] - 0s 3ms/step - loss: 0.1232 - accuracy: 0.9643\n",
      "Epoch 112/120\n",
      "3/3 [==============================] - 0s 3ms/step - loss: 0.1337 - accuracy: 0.9375\n",
      "Epoch 113/120\n",
      "3/3 [==============================] - 0s 3ms/step - loss: 0.1228 - accuracy: 0.9643\n",
      "Epoch 114/120\n",
      "3/3 [==============================] - 0s 2ms/step - loss: 0.1223 - accuracy: 0.9732\n",
      "Epoch 115/120\n",
      "3/3 [==============================] - 0s 3ms/step - loss: 0.1159 - accuracy: 0.9732\n",
      "Epoch 116/120\n",
      "3/3 [==============================] - 0s 3ms/step - loss: 0.1342 - accuracy: 0.9554\n",
      "Epoch 117/120\n",
      "3/3 [==============================] - 0s 3ms/step - loss: 0.1155 - accuracy: 0.9732\n",
      "Epoch 118/120\n",
      "3/3 [==============================] - 0s 4ms/step - loss: 0.1237 - accuracy: 0.9464\n",
      "Epoch 119/120\n",
      "3/3 [==============================] - 0s 3ms/step - loss: 0.1255 - accuracy: 0.9464\n",
      "Epoch 120/120\n",
      "3/3 [==============================] - 0s 3ms/step - loss: 0.1230 - accuracy: 0.9464\n"
     ]
    },
    {
     "data": {
      "text/plain": [
       "<keras.callbacks.History at 0x1ee483e6790>"
      ]
     },
     "execution_count": 166,
     "metadata": {},
     "output_type": "execute_result"
    }
   ],
   "source": [
    "model.fit(X_train, y_train, batch_size=50, epochs=120)"
   ]
  },
  {
   "cell_type": "code",
   "execution_count": 167,
   "id": "0862078f",
   "metadata": {},
   "outputs": [
    {
     "data": {
      "text/plain": [
       "<AxesSubplot:>"
      ]
     },
     "execution_count": 167,
     "metadata": {},
     "output_type": "execute_result"
    },
    {
     "data": {
      "image/png": "[encoded data removed]",
      "text/plain": [
       "<Figure size 432x288 with 1 Axes>"
      ]
     },
     "metadata": {
      "needs_background": "light"
     },
     "output_type": "display_data"
    }
   ],
   "source": [
    "model_loss = pd.DataFrame(model.history.history)\n",
    "model_loss.plot()"
   ]
  },
  {
   "cell_type": "markdown",
   "id": "281a1a65",
   "metadata": {},
   "source": [
    "## Model Evalution"
   ]
  },
  {
   "cell_type": "code",
   "execution_count": 168,
   "id": "b1880c60",
   "metadata": {},
   "outputs": [
    {
     "name": "stdout",
     "output_type": "stream",
     "text": [
      "Test loss: 0.10585443675518036\n",
      "Test accuracy: 1.0\n"
     ]
    }
   ],
   "source": [
    "loss, accuracy = model.evaluate(X_test, y_test, verbose=0)\n",
    "print('Test loss:', loss)\n",
    "print('Test accuracy:', accuracy)"
   ]
  },
  {
   "cell_type": "markdown",
   "id": "cb8fe427",
   "metadata": {},
   "source": [
    "## Model Prediction"
   ]
  },
  {
   "cell_type": "code",
   "execution_count": 169,
   "id": "9c6048f6",
   "metadata": {},
   "outputs": [
    {
     "name": "stdout",
     "output_type": "stream",
     "text": [
      "2/2 [==============================] - 0s 3ms/step\n"
     ]
    }
   ],
   "source": [
    "y_pred = model.predict(X_test)"
   ]
  },
  {
   "cell_type": "code",
   "execution_count": 170,
   "id": "f13b57f4",
   "metadata": {},
   "outputs": [
    {
     "data": {
      "text/plain": [
       "array([[9.99949932e-01, 4.98237314e-05, 2.39587536e-07],\n",
       "       [9.99898195e-01, 1.01230515e-04, 5.58333454e-07],\n",
       "       [9.98341203e-01, 1.64756773e-03, 1.11694708e-05],\n",
       "       [1.28461643e-05, 2.53070235e-01, 7.46916950e-01],\n",
       "       [4.42393764e-04, 9.81036425e-01, 1.85211804e-02],\n",
       "       [6.03795233e-05, 2.82365620e-01, 7.17574000e-01],\n",
       "       [2.53174192e-04, 5.21413743e-01, 4.78333026e-01],\n",
       "       [9.43467952e-04, 7.72271097e-01, 2.26785421e-01],\n",
       "       [1.77700695e-05, 1.07484646e-01, 8.92497599e-01],\n",
       "       [9.98881161e-01, 1.11031299e-03, 8.58880958e-06],\n",
       "       [2.16075587e-05, 1.82049423e-01, 8.17929029e-01],\n",
       "       [9.99897242e-01, 1.02147729e-04, 5.93507991e-07],\n",
       "       [9.99390244e-01, 6.06618181e-04, 3.09825373e-06],\n",
       "       [7.51743698e-08, 7.96160288e-03, 9.92038369e-01],\n",
       "       [7.11312823e-05, 3.34434241e-01, 6.65494680e-01],\n",
       "       [8.52322555e-04, 9.74565446e-01, 2.45822761e-02],\n",
       "       [1.04597851e-03, 9.40503120e-01, 5.84509037e-02],\n",
       "       [8.44377209e-04, 9.13794816e-01, 8.53608474e-02],\n",
       "       [9.99159694e-01, 8.30527861e-04, 9.79250672e-06],\n",
       "       [2.72111492e-06, 3.85942124e-02, 9.61403072e-01],\n",
       "       [1.86426740e-03, 9.43977177e-01, 5.41585572e-02],\n",
       "       [9.99768674e-01, 2.30120626e-04, 1.24176995e-06],\n",
       "       [3.93814204e-04, 6.48976982e-01, 3.50629210e-01],\n",
       "       [7.40102842e-04, 9.84567523e-01, 1.46923717e-02],\n",
       "       [8.06682918e-04, 9.59658623e-01, 3.95348184e-02],\n",
       "       [2.99057504e-03, 9.82807517e-01, 1.42018851e-02],\n",
       "       [4.81399056e-03, 9.68041956e-01, 2.71441117e-02],\n",
       "       [1.77788820e-06, 1.60917733e-02, 9.83906388e-01],\n",
       "       [9.97713804e-01, 2.27120612e-03, 1.50403139e-05],\n",
       "       [9.92498577e-01, 7.41808861e-03, 8.32688602e-05],\n",
       "       [3.71227628e-07, 1.07857790e-02, 9.89213884e-01],\n",
       "       [1.05822319e-03, 8.46642792e-01, 1.52299002e-01],\n",
       "       [7.53119821e-06, 1.04173414e-01, 8.95819008e-01],\n",
       "       [1.66924938e-03, 9.72584367e-01, 2.57464759e-02],\n",
       "       [6.29867418e-06, 9.31267217e-02, 9.06866908e-01],\n",
       "       [3.63379804e-04, 7.11191475e-01, 2.88445145e-01],\n",
       "       [3.77847842e-04, 9.36827600e-01, 6.27945811e-02],\n",
       "       [8.29740369e-04, 9.25723970e-01, 7.34462589e-02]], dtype=float32)"
      ]
     },
     "execution_count": 170,
     "metadata": {},
     "output_type": "execute_result"
    }
   ],
   "source": [
    "y_pred"
   ]
  },
  {
   "cell_type": "code",
   "execution_count": 171,
   "id": "75e458f5",
   "metadata": {},
   "outputs": [],
   "source": [
    "actual = np.argmax(y_test,axis=1)\n",
    "predicted = np.argmax(y_pred,axis=1)\n",
    "\n",
    "prediction = pd.DataFrame({'Actual':actual,'Predicted':predicted})"
   ]
  },
  {
   "cell_type": "code",
   "execution_count": 172,
   "id": "e45c5365",
   "metadata": {},
   "outputs": [
    {
     "data": {
      "text/html": [
       "<div>\n",
       "<style scoped>\n",
       "    .dataframe tbody tr th:only-of-type {\n",
       "        vertical-align: middle;\n",
       "    }\n",
       "\n",
       "    .dataframe tbody tr th {\n",
       "        vertical-align: top;\n",
       "    }\n",
       "\n",
       "    .dataframe thead th {\n",
       "        text-align: right;\n",
       "    }\n",
       "</style>\n",
       "<table border=\"1\" class=\"dataframe\">\n",
       "  <thead>\n",
       "    <tr style=\"text-align: right;\">\n",
       "      <th></th>\n",
       "      <th>Actual</th>\n",
       "      <th>Predicted</th>\n",
       "    </tr>\n",
       "  </thead>\n",
       "  <tbody>\n",
       "    <tr>\n",
       "      <th>0</th>\n",
       "      <td>0</td>\n",
       "      <td>0</td>\n",
       "    </tr>\n",
       "    <tr>\n",
       "      <th>1</th>\n",
       "      <td>0</td>\n",
       "      <td>0</td>\n",
       "    </tr>\n",
       "    <tr>\n",
       "      <th>2</th>\n",
       "      <td>0</td>\n",
       "      <td>0</td>\n",
       "    </tr>\n",
       "    <tr>\n",
       "      <th>3</th>\n",
       "      <td>2</td>\n",
       "      <td>2</td>\n",
       "    </tr>\n",
       "    <tr>\n",
       "      <th>4</th>\n",
       "      <td>1</td>\n",
       "      <td>1</td>\n",
       "    </tr>\n",
       "    <tr>\n",
       "      <th>5</th>\n",
       "      <td>2</td>\n",
       "      <td>2</td>\n",
       "    </tr>\n",
       "    <tr>\n",
       "      <th>6</th>\n",
       "      <td>1</td>\n",
       "      <td>1</td>\n",
       "    </tr>\n",
       "    <tr>\n",
       "      <th>7</th>\n",
       "      <td>1</td>\n",
       "      <td>1</td>\n",
       "    </tr>\n",
       "    <tr>\n",
       "      <th>8</th>\n",
       "      <td>2</td>\n",
       "      <td>2</td>\n",
       "    </tr>\n",
       "    <tr>\n",
       "      <th>9</th>\n",
       "      <td>0</td>\n",
       "      <td>0</td>\n",
       "    </tr>\n",
       "    <tr>\n",
       "      <th>10</th>\n",
       "      <td>2</td>\n",
       "      <td>2</td>\n",
       "    </tr>\n",
       "    <tr>\n",
       "      <th>11</th>\n",
       "      <td>0</td>\n",
       "      <td>0</td>\n",
       "    </tr>\n",
       "    <tr>\n",
       "      <th>12</th>\n",
       "      <td>0</td>\n",
       "      <td>0</td>\n",
       "    </tr>\n",
       "    <tr>\n",
       "      <th>13</th>\n",
       "      <td>2</td>\n",
       "      <td>2</td>\n",
       "    </tr>\n",
       "    <tr>\n",
       "      <th>14</th>\n",
       "      <td>2</td>\n",
       "      <td>2</td>\n",
       "    </tr>\n",
       "    <tr>\n",
       "      <th>15</th>\n",
       "      <td>1</td>\n",
       "      <td>1</td>\n",
       "    </tr>\n",
       "    <tr>\n",
       "      <th>16</th>\n",
       "      <td>1</td>\n",
       "      <td>1</td>\n",
       "    </tr>\n",
       "    <tr>\n",
       "      <th>17</th>\n",
       "      <td>1</td>\n",
       "      <td>1</td>\n",
       "    </tr>\n",
       "    <tr>\n",
       "      <th>18</th>\n",
       "      <td>0</td>\n",
       "      <td>0</td>\n",
       "    </tr>\n",
       "    <tr>\n",
       "      <th>19</th>\n",
       "      <td>2</td>\n",
       "      <td>2</td>\n",
       "    </tr>\n",
       "    <tr>\n",
       "      <th>20</th>\n",
       "      <td>1</td>\n",
       "      <td>1</td>\n",
       "    </tr>\n",
       "    <tr>\n",
       "      <th>21</th>\n",
       "      <td>0</td>\n",
       "      <td>0</td>\n",
       "    </tr>\n",
       "    <tr>\n",
       "      <th>22</th>\n",
       "      <td>1</td>\n",
       "      <td>1</td>\n",
       "    </tr>\n",
       "    <tr>\n",
       "      <th>23</th>\n",
       "      <td>1</td>\n",
       "      <td>1</td>\n",
       "    </tr>\n",
       "    <tr>\n",
       "      <th>24</th>\n",
       "      <td>1</td>\n",
       "      <td>1</td>\n",
       "    </tr>\n",
       "    <tr>\n",
       "      <th>25</th>\n",
       "      <td>1</td>\n",
       "      <td>1</td>\n",
       "    </tr>\n",
       "    <tr>\n",
       "      <th>26</th>\n",
       "      <td>1</td>\n",
       "      <td>1</td>\n",
       "    </tr>\n",
       "    <tr>\n",
       "      <th>27</th>\n",
       "      <td>2</td>\n",
       "      <td>2</td>\n",
       "    </tr>\n",
       "    <tr>\n",
       "      <th>28</th>\n",
       "      <td>0</td>\n",
       "      <td>0</td>\n",
       "    </tr>\n",
       "    <tr>\n",
       "      <th>29</th>\n",
       "      <td>0</td>\n",
       "      <td>0</td>\n",
       "    </tr>\n",
       "    <tr>\n",
       "      <th>30</th>\n",
       "      <td>2</td>\n",
       "      <td>2</td>\n",
       "    </tr>\n",
       "    <tr>\n",
       "      <th>31</th>\n",
       "      <td>1</td>\n",
       "      <td>1</td>\n",
       "    </tr>\n",
       "    <tr>\n",
       "      <th>32</th>\n",
       "      <td>2</td>\n",
       "      <td>2</td>\n",
       "    </tr>\n",
       "    <tr>\n",
       "      <th>33</th>\n",
       "      <td>1</td>\n",
       "      <td>1</td>\n",
       "    </tr>\n",
       "    <tr>\n",
       "      <th>34</th>\n",
       "      <td>2</td>\n",
       "      <td>2</td>\n",
       "    </tr>\n",
       "    <tr>\n",
       "      <th>35</th>\n",
       "      <td>1</td>\n",
       "      <td>1</td>\n",
       "    </tr>\n",
       "    <tr>\n",
       "      <th>36</th>\n",
       "      <td>1</td>\n",
       "      <td>1</td>\n",
       "    </tr>\n",
       "    <tr>\n",
       "      <th>37</th>\n",
       "      <td>1</td>\n",
       "      <td>1</td>\n",
       "    </tr>\n",
       "  </tbody>\n",
       "</table>\n",
       "</div>"
      ],
      "text/plain": [
       "    Actual  Predicted\n",
       "0        0          0\n",
       "1        0          0\n",
       "2        0          0\n",
       "3        2          2\n",
       "4        1          1\n",
       "5        2          2\n",
       "6        1          1\n",
       "7        1          1\n",
       "8        2          2\n",
       "9        0          0\n",
       "10       2          2\n",
       "11       0          0\n",
       "12       0          0\n",
       "13       2          2\n",
       "14       2          2\n",
       "15       1          1\n",
       "16       1          1\n",
       "17       1          1\n",
       "18       0          0\n",
       "19       2          2\n",
       "20       1          1\n",
       "21       0          0\n",
       "22       1          1\n",
       "23       1          1\n",
       "24       1          1\n",
       "25       1          1\n",
       "26       1          1\n",
       "27       2          2\n",
       "28       0          0\n",
       "29       0          0\n",
       "30       2          2\n",
       "31       1          1\n",
       "32       2          2\n",
       "33       1          1\n",
       "34       2          2\n",
       "35       1          1\n",
       "36       1          1\n",
       "37       1          1"
      ]
     },
     "execution_count": 172,
     "metadata": {},
     "output_type": "execute_result"
    }
   ],
   "source": [
    "prediction"
   ]
  },
  {
   "cell_type": "markdown",
   "id": "574df099",
   "metadata": {},
   "source": [
    "## Saving the Model"
   ]
  },
  {
   "cell_type": "code",
   "execution_count": 173,
   "id": "412a94fe",
   "metadata": {},
   "outputs": [],
   "source": [
    "from tensorflow.keras.models import load_model"
   ]
  },
  {
   "cell_type": "code",
   "execution_count": 175,
   "id": "1fbdd39e",
   "metadata": {},
   "outputs": [],
   "source": [
    "model.save('my_model.h5')"
   ]
  },
  {
   "cell_type": "markdown",
   "id": "1f81211d",
   "metadata": {},
   "source": [
    "## Model Prediction"
   ]
  },
  {
   "cell_type": "code",
   "execution_count": 144,
   "id": "b8fcb7fa",
   "metadata": {},
   "outputs": [],
   "source": [
    "from tensorflow.keras.models import load_model\n",
    "new_model = load_model('my_model.h5')\n",
    "\n",
    "def IRIS_prediction(input_data):\n",
    "    input_to_array = scaler.transform(input_data)\n",
    "    prediction1 = new_model.predict(input_to_array)\n",
    "    \n",
    "    prediction = []\n",
    "    \n",
    "    for i in range(0,3):\n",
    "        prediction.append(prediction1[0][i])\n",
    "    \n",
    "    max_value = max(prediction)\n",
    "    index = prediction.index(max_value)\n",
    "    \n",
    "    if(index == 0):\n",
    "        return \"Iris-Setosa\"\n",
    "    elif(index == 1):\n",
    "        return \"Iris-versicolor\"\n",
    "    elif (index == 2):\n",
    "        return \"Iris-virginica\""
   ]
  },
  {
   "cell_type": "code",
   "execution_count": 145,
   "id": "aa0bfdea",
   "metadata": {},
   "outputs": [],
   "source": [
    "my_pred = [[2.5,3.4,1.0,0.4]]"
   ]
  },
  {
   "cell_type": "code",
   "execution_count": 146,
   "id": "fea262c2",
   "metadata": {},
   "outputs": [
    {
     "name": "stdout",
     "output_type": "stream",
     "text": [
      "1/1 [==============================] - 0s 77ms/step\n"
     ]
    },
    {
     "data": {
      "text/plain": [
       "'Iris-Setosa'"
      ]
     },
     "execution_count": 146,
     "metadata": {},
     "output_type": "execute_result"
    }
   ],
   "source": [
    "IRIS_prediction(my_pred)"
   ]
  }
 ],
 "metadata": {
  "kernelspec": {
   "display_name": "Python 3 (ipykernel)",
   "language": "python",
   "name": "python3"
  },
  "language_info": {
   "codemirror_mode": {
    "name": "ipython",
    "version": 3
   },
   "file_extension": ".py",
   "mimetype": "text/x-python",
   "name": "python",
   "nbconvert_exporter": "python",
   "pygments_lexer": "ipython3",
   "version": "3.9.7"
  }
 },
 "nbformat": 4,
 "nbformat_minor": 5
}
